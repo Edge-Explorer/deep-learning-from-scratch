{
 "cells": [
  {
   "cell_type": "markdown",
   "id": "e0fe5219-85aa-46d1-8320-7133367daa5a",
   "metadata": {},
   "source": [
    "Softmax Classifier using Tensorflow"
   ]
  },
  {
   "cell_type": "code",
   "execution_count": 1,
   "id": "8b96b9df-c452-46a8-a1d6-0982dc613ac6",
   "metadata": {},
   "outputs": [],
   "source": [
    "#They make your code deterministic — meaning the same random numbers (like weights, shuffling, dropout, etc.) will be generated every time you run your script.\n",
    "\n",
    "#So your model:\n",
    "\n",
    "#Starts with the same weights\n",
    "\n",
    "#Sees data in the same order\n",
    "\n",
    "#Learns in the same way\n",
    "\n",
    "#Produces the same loss and accuracy results each time\n",
    "\n",
    "#import tensorflow as tf\n",
    "#import numpy as np\n",
    "\n",
    "#tf.random.set_seed(42)\n",
    "#np.random.seed(42)\n"
   ]
  },
  {
   "cell_type": "code",
   "execution_count": 2,
   "id": "a4b1521b-15ec-448e-93a1-53dfa9a96749",
   "metadata": {},
   "outputs": [
    {
     "name": "stdout",
     "output_type": "stream",
     "text": [
      "Training data shape: (60000, 28, 28)\n",
      "Training labels shape: (60000, 10)\n"
     ]
    }
   ],
   "source": [
    "import tensorflow as tf\n",
    "\n",
    "# Load MNIST dataset from Keras datasets module\n",
    "(x_train, y_train), (x_test, y_test) = tf.keras.datasets.mnist.load_data()\n",
    "\n",
    "# Normalize pixel values to be between 0 and 1\n",
    "x_train, x_test = x_train / 255.0, x_test / 255.0\n",
    "\n",
    "# Convert labels to one-hot encoded vectors\n",
    "y_train = tf.keras.utils.to_categorical(y_train, num_classes=10)\n",
    "y_test = tf.keras.utils.to_categorical(y_test, num_classes=10)\n",
    "\n",
    "print(\"Training data shape:\", x_train.shape)\n",
    "print(\"Training labels shape:\", y_train.shape)\n"
   ]
  },
  {
   "cell_type": "code",
   "execution_count": 3,
   "id": "c9b85859-d771-4e58-9e6e-c48558bac03d",
   "metadata": {},
   "outputs": [
    {
     "name": "stdout",
     "output_type": "stream",
     "text": [
      "Training data points: 60000\n",
      "Testing data points: 10000\n"
     ]
    }
   ],
   "source": [
    "print(\"Training data points:\", x_train.shape[0])\n",
    "print(\"Testing data points:\", x_test.shape[0])\n"
   ]
  },
  {
   "cell_type": "code",
   "execution_count": 4,
   "id": "5e857a34-8378-4f5a-982d-fe0f2b0b256a",
   "metadata": {},
   "outputs": [
    {
     "name": "stdout",
     "output_type": "stream",
     "text": [
      "Name: /device:CPU:0, Type: CPU\n"
     ]
    }
   ],
   "source": [
    "from tensorflow.python.client import device_lib\n",
    "\n",
    "# List all available devices\n",
    "devices = device_lib.list_local_devices()\n",
    "\n",
    "for device in devices:\n",
    "    print(f\"Name: {device.name}, Type: {device.device_type}\")\n"
   ]
  },
  {
   "cell_type": "code",
   "execution_count": 5,
   "id": "b92b8d4a-83f5-4171-9df4-6133cad4d376",
   "metadata": {},
   "outputs": [],
   "source": [
    "x_train = x_train.reshape(-1, 784).astype(\"float32\")\n",
    "x_test = x_test.reshape(-1, 784).astype(\"float32\")\n",
    "\n"
   ]
  },
  {
   "cell_type": "code",
   "execution_count": 6,
   "id": "0bdbc930-327a-4f8b-a911-31198b7ccb43",
   "metadata": {},
   "outputs": [],
   "source": [
    "# Pick a batch size\n",
    "batch_size = 100\n",
    "\n",
    "# Get a batch of training data\n",
    "x_batch = x_train[:batch_size]\n",
    "y_true = y_train[:batch_size]\n"
   ]
  },
  {
   "cell_type": "code",
   "execution_count": 7,
   "id": "b34d6d27-1dda-430e-beae-4f02799efd13",
   "metadata": {},
   "outputs": [
    {
     "name": "stdout",
     "output_type": "stream",
     "text": [
      "Loss: 2.31049\n"
     ]
    }
   ],
   "source": [
    "W = tf.Variable(tf.random.normal([784, 10], stddev=0.01))\n",
    "b = tf.Variable(tf.zeros([10]))\n",
    "logits = tf.matmul(x_batch, W) + b\n",
    "y_pred = tf.nn.softmax(logits)\n",
    "\n",
    "def cross_entropy_loss(y_true, y_pred):\n",
    "    epsilon = 1e-7  # small value to avoid log(0)\n",
    "    y_pred = tf.clip_by_value(y_pred, epsilon, 1.0)  # clip predictions\n",
    "    loss_per_example = -tf.reduce_sum(y_true * tf.math.log(y_pred), axis=1)\n",
    "    return tf.reduce_mean(loss_per_example)\n",
    "\n",
    "\n",
    "loss = cross_entropy_loss(y_true, y_pred)\n",
    "print(\"Loss:\", loss.numpy())\n"
   ]
  },
  {
   "cell_type": "code",
   "execution_count": 8,
   "id": "11faa6f2-2260-437d-a345-e6a7afdac6d4",
   "metadata": {},
   "outputs": [],
   "source": [
    "# Set learning rate\n",
    "#learning_rate = 0.1\n",
    "\n",
    "# One training step\n",
    "#with tf.GradientTape() as tape:\n",
    "  #  logits = tf.matmul(x_batch, W) + b\n",
    "  #  y_pred = tf.nn.softmax(logits)\n",
    "   # loss = cross_entropy_loss(y_true, y_pred)\n",
    "\n",
    "# Compute gradients w.r.t. W and b\n",
    "#grads = tape.gradient(loss, [W, b])\n",
    "\n",
    "# Update weights and biases manually\n",
    "#W.assign_sub(learning_rate * grads[0])\n",
    "#b.assign_sub(learning_rate * grads[1])\n",
    "\n",
    "#print(\"Loss:\", loss.numpy())\n"
   ]
  },
  {
   "cell_type": "markdown",
   "id": "649869ce-d095-459f-9463-8cb36f2fe30e",
   "metadata": {},
   "source": [
    "These is using Gradient Descent"
   ]
  },
  {
   "cell_type": "code",
   "execution_count": 9,
   "id": "a02817ef-dae8-4b0a-92a6-66acb3f0bfeb",
   "metadata": {},
   "outputs": [],
   "source": [
    "# Parameters\n",
    "#epochs = 10\n",
    "#batch_size = 100\n",
    "#learning_rate = 0.1\n",
    "\n",
    "# Loop over epochs\n",
    "#for epoch in range(epochs):\n",
    "    #total_loss = 0\n",
    "\n",
    "    # Loop over batches\n",
    "    #for i in range(0, x_train.shape[0], batch_size):\n",
    "     #   x_batch = x_train[i:i+batch_size]\n",
    "      #  y_batch = y_train[i:i+batch_size]\n",
    "\n",
    "       # with tf.GradientTape() as tape:\n",
    "        #    logits = tf.matmul(x_batch, W) + b\n",
    "         #   y_pred = tf.nn.softmax(logits)\n",
    "          #  loss = cross_entropy_loss(y_batch, y_pred)\n",
    "\n",
    "        #grads = tape.gradient(loss, [W, b])\n",
    "        #W.assign_sub(learning_rate * grads[0])\n",
    "        #b.assign_sub(learning_rate * grads[1])\n",
    "\n",
    "        #total_loss += loss.numpy()\n",
    "\n",
    "    #avg_loss = total_loss / (x_train.shape[0] / batch_size)\n",
    "    #print(f\"Epoch {epoch+1}, Loss: {avg_loss:.4f}\")\n"
   ]
  },
  {
   "cell_type": "markdown",
   "id": "68a65af4-4016-4275-a017-d0e67c50766c",
   "metadata": {},
   "source": [
    "These is using Adam"
   ]
  },
  {
   "cell_type": "code",
   "execution_count": 10,
   "id": "aa793a40-2f29-42db-ac7f-2efb3f7a9aa8",
   "metadata": {},
   "outputs": [
    {
     "name": "stdout",
     "output_type": "stream",
     "text": [
      "Epoch 1, Train Loss: 0.5333, Test Loss: 0.3637\n",
      "Epoch 2, Train Loss: 0.3592, Test Loss: 0.3251\n",
      "Epoch 3, Train Loss: 0.3313, Test Loss: 0.3090\n",
      "Epoch 4, Train Loss: 0.3167, Test Loss: 0.2999\n",
      "Epoch 5, Train Loss: 0.3073, Test Loss: 0.2940\n",
      "Epoch 6, Train Loss: 0.3005, Test Loss: 0.2898\n",
      "Epoch 7, Train Loss: 0.2953, Test Loss: 0.2866\n",
      "Epoch 8, Train Loss: 0.2911, Test Loss: 0.2842\n",
      "Epoch 9, Train Loss: 0.2876, Test Loss: 0.2822\n",
      "Epoch 10, Train Loss: 0.2847, Test Loss: 0.2806\n"
     ]
    },
    {
     "data": {
      "image/png": "[encoded data removed]",
      "text/plain": [
       "<Figure size 640x480 with 1 Axes>"
      ]
     },
     "metadata": {},
     "output_type": "display_data"
    }
   ],
   "source": [
    "train_loss_history = []\n",
    "test_loss_history = []\n",
    "epochs = 10  # or any number of epochs you want\n",
    "learning_rate = 0.1\n",
    "\n",
    "for epoch in range(epochs):\n",
    "    total_train_loss = 0\n",
    "    num_batches = 0\n",
    "\n",
    "    # Training loop\n",
    "    for i in range(0, x_train.shape[0], batch_size):\n",
    "        x_batch = x_train[i:i+batch_size]\n",
    "        y_batch = y_train[i:i+batch_size]\n",
    "\n",
    "        with tf.GradientTape() as tape:\n",
    "            logits = tf.matmul(x_batch, W) + b\n",
    "            y_pred = tf.nn.softmax(logits)\n",
    "            loss = cross_entropy_loss(y_batch, y_pred)\n",
    "\n",
    "        grads = tape.gradient(loss, [W, b])\n",
    "        W.assign_sub(learning_rate * grads[0])\n",
    "        b.assign_sub(learning_rate * grads[1])\n",
    "\n",
    "        total_train_loss += loss.numpy()\n",
    "        num_batches += 1\n",
    "\n",
    "    avg_train_loss = total_train_loss / num_batches\n",
    "    train_loss_history.append(avg_train_loss)\n",
    "\n",
    "    # Evaluate on test set\n",
    "    logits_test = tf.matmul(x_test, W) + b\n",
    "    y_pred_test = tf.nn.softmax(logits_test)\n",
    "    test_loss = cross_entropy_loss(y_test, y_pred_test).numpy()\n",
    "    test_loss_history.append(test_loss)\n",
    "\n",
    "    print(f\"Epoch {epoch+1}, Train Loss: {avg_train_loss:.4f}, Test Loss: {test_loss:.4f}\")\n",
    "\n",
    "# Plotting\n",
    "import matplotlib.pyplot as plt\n",
    "plt.plot(range(1, epochs+1), train_loss_history, label='Train Loss')\n",
    "plt.plot(range(1, epochs+1), test_loss_history, label='Test Loss')\n",
    "# Bold title\n",
    "plt.title('Softmax Cross Entropy Loss', fontweight='bold')\n",
    "plt.xlabel('Epoch')\n",
    "plt.ylabel('Loss')\n",
    "plt.legend()\n",
    "plt.show()\n",
    "\n"
   ]
  },
  {
   "cell_type": "code",
   "execution_count": 11,
   "id": "7931261a-d7fb-447f-98ae-ba94c02f6be2",
   "metadata": {},
   "outputs": [
    {
     "name": "stdout",
     "output_type": "stream",
     "text": [
      "Test set accuracy: 0.9202\n"
     ]
    }
   ],
   "source": [
    "# Step 1: Calculate logits and predictions for the test set\n",
    "logits_test = tf.matmul(x_test, W) + b\n",
    "y_pred_test = tf.nn.softmax(logits_test)\n",
    "\n",
    "# Step 2: Get predicted class indices\n",
    "predicted_classes = tf.argmax(y_pred_test, axis=1)\n",
    "\n",
    "# Step 3: Get true class indices from one-hot labels\n",
    "true_classes = tf.argmax(y_test, axis=1)\n",
    "\n",
    "# Step 4: Compare predictions with true labels (element-wise equality)\n",
    "correct_predictions = tf.equal(predicted_classes, true_classes)\n",
    "\n",
    "# Step 5: Calculate accuracy as mean of correct predictions (cast bool to float)\n",
    "accuracy = tf.reduce_mean(tf.cast(correct_predictions, tf.float32))\n",
    "\n",
    "print(\"Test set accuracy:\", accuracy.numpy())\n"
   ]
  },
  {
   "cell_type": "code",
   "execution_count": null,
   "id": "44b0b8d1-7805-4e67-80fc-8e742e872701",
   "metadata": {},
   "outputs": [],
   "source": []
  }
 ],
 "metadata": {
  "kernelspec": {
   "display_name": "Python 3 (ipykernel)",
   "language": "python",
   "name": "python3"
  },
  "language_info": {
   "codemirror_mode": {
    "name": "ipython",
    "version": 3
   },
   "file_extension": ".py",
   "mimetype": "text/x-python",
   "name": "python",
   "nbconvert_exporter": "python",
   "pygments_lexer": "ipython3",
   "version": "3.10.9"
  }
 },
 "nbformat": 4,
 "nbformat_minor": 5
}
